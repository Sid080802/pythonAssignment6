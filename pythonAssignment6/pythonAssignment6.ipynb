{
 "cells": [
  {
   "cell_type": "markdown",
   "id": "d5fef891",
   "metadata": {},
   "source": [
    "### 1. Write a Python Program to find sum of array."
   ]
  },
  {
   "cell_type": "code",
   "execution_count": 11,
   "id": "d838ffd4",
   "metadata": {},
   "outputs": [
    {
     "name": "stdout",
     "output_type": "stream",
     "text": [
      "Sum of array is 100\n"
     ]
    }
   ],
   "source": [
    "#arr = [1,2,3,4,5]\n",
    "def find_sum_of_array(arr):\n",
    "    total = 0\n",
    "    for i in arr:\n",
    "        total += i\n",
    "    return total\n",
    "arr = [10,20,30,40]\n",
    "print(f\"Sum of array is {find_sum_of_array(arr)}\")\n"
   ]
  },
  {
   "cell_type": "markdown",
   "id": "1561b890",
   "metadata": {},
   "source": [
    "### 2. Given the name of strings, use variable name and string format."
   ]
  },
  {
   "cell_type": "code",
   "execution_count": 14,
   "id": "f4ab0eb6",
   "metadata": {},
   "outputs": [
    {
     "name": "stdout",
     "output_type": "stream",
     "text": [
      "siddharth is very smart\n"
     ]
    }
   ],
   "source": [
    "# a = 'siddharth'\n",
    "# b = 'smart'\n",
    "a = 'Siddharth'\n",
    "b = 'smart'\n",
    "print(f\"{a} is very {b}\")"
   ]
  },
  {
   "cell_type": "markdown",
   "id": "08177deb",
   "metadata": {},
   "source": [
    "### 3. Count all lower case, upper case, digits and special symbol from given string."
   ]
  },
  {
   "cell_type": "code",
   "execution_count": 13,
   "id": "94e81ba6",
   "metadata": {},
   "outputs": [
    {
     "name": "stdout",
     "output_type": "stream",
     "text": [
      " Count of Upper case is 1 \n",
      " Count of Lower case is 7 \n",
      " Count of Digit is 3 \n",
      " Count of special symbol is 6\n"
     ]
    }
   ],
   "source": [
    "# str1 = 'P#@yn26at^&!5vew%'\n",
    "str1 = 'P#@yn26at^&!5vew%'\n",
    "\n",
    "lower_char_count = 0\n",
    "upper_char_count = 0\n",
    "digit_count = 0\n",
    "symbol_count = 0\n",
    "\n",
    "\n",
    "for i in str1:\n",
    "    if i.isupper():\n",
    "        upper_char_count += 1 \n",
    "    elif i.islower():\n",
    "        lower_char_count += 1\n",
    "    elif i.isdigit():\n",
    "        digit_count += 1\n",
    "    else:\n",
    "        symbol_count += 1\n",
    "    \n",
    "print(f\" Count of Upper case is {upper_char_count} \\n Count of Lower case is {lower_char_count} \\n Count of Digit is {digit_count} \\n Count of special symbol is {symbol_count}\")\n"
   ]
  },
  {
   "cell_type": "markdown",
   "id": "6c61aa4d",
   "metadata": {},
   "source": [
    "### 4. find all occurrences of \"USA\" in given string. ingnoring cases."
   ]
  },
  {
   "cell_type": "code",
   "execution_count": 24,
   "id": "911ace22",
   "metadata": {},
   "outputs": [
    {
     "name": "stdout",
     "output_type": "stream",
     "text": [
      "Count os USA in given string is: 2\n"
     ]
    }
   ],
   "source": [
    "str1 = \"welcome to USA. usa is awesome, isn't it?\"\n",
    "\n",
    "str2 = str1.lower()\n",
    "\n",
    "print(f\"Count os USA in given string is: {str2.count('usa')}\")"
   ]
  },
  {
   "cell_type": "markdown",
   "id": "75c35d27",
   "metadata": {},
   "source": [
    "### 5. display list in the following order."
   ]
  },
  {
   "cell_type": "code",
   "execution_count": 30,
   "id": "df62367e",
   "metadata": {},
   "outputs": [
    {
     "name": "stdout",
     "output_type": "stream",
     "text": [
      "[500, 400, 300, 200, 100]\n"
     ]
    }
   ],
   "source": [
    "# demo_list = [100,200,300,400,500]\n",
    "# expected_output = [500,400,300,200,100]\n",
    "\n",
    "demo_list = [100,200,300,400,500]\n",
    "reverse_list = demo_list[::-1]\n",
    "\n",
    "print(reverse_list)"
   ]
  },
  {
   "cell_type": "code",
   "execution_count": null,
   "id": "408f71af",
   "metadata": {},
   "outputs": [],
   "source": []
  }
 ],
 "metadata": {
  "kernelspec": {
   "display_name": "Python 3 (ipykernel)",
   "language": "python",
   "name": "python3"
  },
  "language_info": {
   "codemirror_mode": {
    "name": "ipython",
    "version": 3
   },
   "file_extension": ".py",
   "mimetype": "text/x-python",
   "name": "python",
   "nbconvert_exporter": "python",
   "pygments_lexer": "ipython3",
   "version": "3.11.4"
  }
 },
 "nbformat": 4,
 "nbformat_minor": 5
}
